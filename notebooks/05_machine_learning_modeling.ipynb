{
 "cells": [
  {
   "cell_type": "markdown",
   "metadata": {},
   "source": [
    "# Cryptocurrency Price Prediction\n",
    "## Machine Learning Modeling Notebook"
   ]
  },
  {
   "cell_type": "code",
   "execution_count": null,
   "metadata": {},
   "source": [
    "# Import required libraries\n",
    "import pandas as pd\n",
    "import numpy as np\n",
    "import matplotlib.pyplot as plt\n",
    "import seaborn as sns\n",
    "\n",
    "# Machine Learning Libraries\n",
    "from sklearn.model_selection import train_test_split, cross_val_score\n",
    "from sklearn.preprocessing import StandardScaler, MinMaxScaler\n",
    "from sklearn.metrics import mean_squared_error, mean_absolute_error, r2_score\n",
    "\n",
    "# Deep Learning\n",
    "import tensorflow as tf\n",
    "from tensorflow.keras.models import Sequential\n",
    "from tensorflow.keras.layers import LSTM, Dense, Dropout\n",
    "from tensorflow.keras.optimizers import Adam\n",
    "from tensorflow.keras.callbacks import EarlyStopping"
   ]
  },
  {
   "cell_type": "markdown",
   "metadata": {},
   "source": [
    "## 1. Data Loading and Preprocessing"
   ]
  },
  {
   "cell_type": "code",
   "execution_count": null,
   "metadata": {},
   "source": [
    "# Load processed cryptocurrency data\n",
    "def load_crypto_data(crypto_name):\n",
    "    \"\"\"\n",
    "    Load and preprocess cryptocurrency data\n",
    "    \n",
    "    Args:\n",
    "        crypto_name (str): Name of the cryptocurrency\n",
    "    \n",
    "    Returns:\n",
    "        Processed dataset ready for modeling\n",
    "    \"\"\"\n",
    "    # Load data from processed directory\n",
    "    data_path = f'../data/processed/{crypto_name}_processed.csv'\n",
    "    df = pd.read_csv(data_path)\n",
    "    \n",
    "    # Convert timestamp\n",
    "    df['timestamp'] = pd.to_datetime(df['timestamp'])\n",
    "    \n",
    "    return df"
   ]
  },
  {
   "cell_type": "markdown",
   "metadata": {},
   "source": [
    "## 2. Feature Engineering"
   ]
  },
  {
   "cell_type": "code",
   "execution_count": null,
   "metadata": {},
   "source": [
    "def create_time_series_features(df):\n",
    "    \"\"\"\n",
    "    Create additional time series features\n",
    "    \n",
    "    Args:\n",
    "        df (pd.DataFrame): Input dataframe\n",
    "    \n",
    "    Returns:\n",
    "        DataFrame with additional features\n",
    "    \"\"\"\n",
    "    # Rolling window features\n",
    "    df['rolling_mean_7d'] = df['price'].rolling(window=7).mean()\n",
    "    df['rolling_std_7d'] = df['price'].rolling(window=7).std()\n",
    "    \n",
    "    # Price changes\n",
    "    df['price_change_1d'] = df['price'].pct_change()\n",
    "    df['price_change_7d'] = df['price'].pct_change(periods=7)\n",
    "    \n",
    "    # Lagged features\n",
    "    df['price_lag_1'] = df['price'].shift(1)\n",
    "    df['price_lag_7'] = df['price'].shift(7)\n",
    "    \n",
    "    return df.dropna()"
   ]
  },
  {
   "cell_type": "markdown",
   "metadata": {},
   "source": [
    "## 3. Sequence Preparation for LSTM"
   ]
  },
  {
   "cell_type": "code",
   "execution_count": null,
   "metadata": {},
   "source": [
    "def create_sequences(data, seq_length=30):\n",
    "    \"\"\"\n",
    "    Create sequences for LSTM modeling\n",
    "    \n",
    "    Args:\n",
    "        data (np.array): Input data\n",
    "        seq_length (int): Length of input sequences\n",
    "    \n",
    "    Returns:\n",
    "        X, y sequences for LSTM\n",
    "    \"\"\"\n",
    "    X, y = [], []\n",
    "    for i in range(len(data) - seq_length):\n",
    "        X.append(data[i:i+seq_length])\n",
    "        y.append(data[i+seq_length])\n",
    "    \n",
    "    return np.array(X), np.array(y)"
   ]
  },
  {
   "cell_type": "markdown",
   "metadata": {},
   "source": [
    "## 4. LSTM Model Architecture"
   ]
  },
  {
   "cell_type": "code",
   "execution_count": null,
   "metadata": {},
   "source": [
    "def build_lstm_model(input_shape):\n",
    "    \"\"\"\n",
    "    Build LSTM Neural Network for Price Prediction\n",
    "    \n",
    "    Args:\n",
    "        input_shape (tuple): Shape of input sequences\n",
    "    \n",
    "    Returns:\n",
    "        Compiled Keras LSTM model\n",
    "    \"\"\"\n",
    "    model = Sequential([\n",
    "        # First LSTM Layer\n",
    "        LSTM(units=50, return_sequences=True, input_shape=input_shape),\n",
    "        Dropout(0.2),\n",
    "        \n",
    "        # Second LSTM Layer\n",
    "        LSTM(units=50, return_sequences=False),\n",
    "        Dropout(0.2),\n",
    "        \n",
    "        # Dense Layers\n",
    "        Dense(25, activation='relu'),\n",
    "        Dense(1)  # Output layer\n",
    "    ])\n",
    "    \n",
    "    # Compile Model\n",
    "    model.compile(\n",
    "        optimizer=Adam(learning_rate=0.001),\n",
    "        loss='mean_squared_error',\n",
    "        metrics=['mae']\n",
    "    )\n",
    "    \n",
    "    return model"
   ]
  },
  {
   "cell_type": "markdown",
   "metadata": {},
   "source": [
    "## 5. Model Training and Evaluation"
   ]
  },
  {
   "cell_type": "code",
   "execution_count": null,
   "metadata": {},
   "source": [
    "def train_and_evaluate_model(crypto_name):\n",
    "    \"\"\"\n",
    "    Train and evaluate LSTM model for cryptocurrency\n",
    "    \n",
    "    Args:\n",
    "        crypto_name (str): Name of cryptocurrency\n",
    "    \n",
    "    Returns:\n",
    "        Trained model and performance metrics\n",
    "    \"\"\"\n",
    "    # Load and preprocess data\n",
    "    df = load_crypto_data(crypto_name)\n",
    "    df = create_time_series_features(df)\n",
    "    \n",
    "    # Scale features\n",
    "    scaler = MinMaxScaler()\n",
    "    scaled_data = scaler.fit_transform(df[['price']])\n",
    "    \n",
    "    # Create sequences\n",
    "    X, y = create_sequences(scaled_data)\n",
    "    \n",
    "    # Split data\n",
    "    X_train, X_test, y_train, y_test = train_test_split(\n",
    "        X, y, test_size=0.2, shuffle=False\n",
    "    )\n",
    "    \n",
    "    # Build model\n",
    "    model = build_lstm_model(\n",
    "        input_shape=(X_train.shape[1], X_train.shape[2])\n",
    "    )\n",
    "    \n",
    "    # Early stopping\n",
    "    early_stop = EarlyStopping(\n",
    "        monitor='val_loss', \n",
    "        patience=10, \n",
    "        restore_best_weights=True\n",
    "    )\n",
    "    \n",
    "    # Train model\n",
    "    history = model.fit(\n",
    "        X_train, y_train,\n",
    "        epochs=100,\n",
    "        batch_size=32,\n",
    "        validation_split=0.2,\n",
    "        callbacks=[early_stop],\n",
    "        verbose=1\n",
    "    )\n",
    "    \n",
    "    # Predictions\n",
    "    y_pred = model.predict(X_test)\n",
    "    \n",
    "    # Inverse transform predictions\n",
    "    y_test_inv = scaler.inverse_transform(y_test)\n",
    "    y_pred_inv = scaler.inverse_transform(y_pred)\n",
    "    \n",
    "    # Performance metrics\n",
    "    mse = mean_squared_error(y_test_inv, y_pred_inv)\n",
    "    mae = mean_absolute_error(y_test_inv, y_pred_inv)\n",
    "    r2 = r2_score(y_test_inv, y_pred_inv)\n",
    "    \n",
    "    # Visualization\n",
    "    plt.figure(figsize=(12, 6))\n",
    "    plt.plot(y_test_inv, label='Actual Prices', color='blue')\n",
    "    plt.plot(y_pred_inv, label='Predicted Prices', color='red')\n",
    "    plt.title(f'{crypto_name.capitalize()} Price Prediction')\n",
    "    plt.legend()\n",
    "    plt.savefig(f'../outputs/{crypto_name}_prediction.png')\n",
    "    plt.close()\n",
    "    \n",
    "    return model, {\n",
    "        'MSE': mse,\n",
    "        'MAE': mae,\n",
    "        'R2': r2\n",
    "    }"
   ]
  },
  {
   "cell_type": "markdown",
   "metadata": {},
   "source": [
    "## 6. Main Execution"
   ]
  },
  {
   "cell_type": "code",
   "execution_count": null,
   "metadata": {},
   "source": [
    "def main():\n",
    "    # List of cryptocurrencies to analyze\n",
    "    cryptocurrencies = ['bitcoin', 'ethereum', 'binancecoin']\n",
    "    \n",
    "    # Store results\n",
    "    model_results = {}\n",
    "    \n",
    "    # Train models for each cryptocurrency\n",
    "    for crypto in cryptocurrencies:\n",
    "        print(f\"Training model for {crypto}...\")\n",
    "        model, metrics = train_and_evaluate_model(crypto)\n",
    "        \n",
    "        # Save model\n",
    "        model.save(f'../models/{crypto}_lstm_model.h5')\n",
    "        \n",
    "        # Store results\n",
    "        model_results[crypto] = metrics\n",
    "    \n",
    "    # Print results\n",
    "    for crypto, metrics in model_results.items():\n",
    "        print(f\"\\n{crypto.capitalize()} Model Performance:\")\n",
    "        for metric, value in metrics.items():\n",
    "            print(f\"{metric}: {value}\")\n",
    "\n",
    "if __name__ == '__main__':\n",
    "    main()"
   ]
  }
 ],
 "metadata": {
  "kernelspec": {
   "display_name": "Python 3",
   "language": "python",
   "name": "python3"
  },
  "language_info": {
   "name": "python",
   "version": "3.8.0"
  }
 },
 "nbformat": 4,
 "nbformat_minor": 4
}
