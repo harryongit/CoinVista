{
 "cells": [
  {
   "cell_type": "markdown",
   "metadata": {},
   "source": [
    "# Cryptocurrency Time Series Analysis Notebook\n",
    "\n",
    "## Objectives\n",
    "- Load and preprocess cryptocurrency data\n",
    "- Perform comprehensive time series analysis\n",
    "- Visualize key trends and patterns\n",
    "- Conduct statistical tests and decomposition"
   ]
  },
  {
   "cell_type": "code",
   "execution_count": null,
   "metadata": {},
   "source": [
    "# Import required libraries\n",
    "import pandas as pd\n",
    "import numpy as np\n",
    "import matplotlib.pyplot as plt\n",
    "import seaborn as sns\n",
    "\n",
    "# Statistical and time series analysis\n",
    "from statsmodels.tsa.stattools import adfuller\n",
    "from statsmodels.graphics.tsaplots import plot_acf, plot_pacf\n",
    "from statsmodels.tsa.seasonal import seasonal_decompose\n",
    "\n",
    "# Set plotting style\n",
    "plt.style.use('seaborn')\n",
    "sns.set_palette('deep')"
   ],
   "outputs": []
  },
  {
   "cell_type": "markdown",
   "metadata": {},
   "source": [
    "## Data Loading and Preparation"
   ]
  },
  {
   "cell_type": "code",
   "execution_count": null,
   "metadata": {},
   "source": [
    "# Load processed cryptocurrency data\n",
    "def load_crypto_data(crypto_name='bitcoin'):\n",
    "    \"\"\"\n",
    "    Load processed cryptocurrency data\n",
    "    \"\"\"\n",
    "    try:\n",
    "        data = pd.read_csv(f'data/processed/features/{crypto_name}_engineered_features.csv', parse_dates=['timestamp'])\n",
    "        data.set_index('timestamp', inplace=True)\n",
    "        return data\n",
    "    except FileNotFoundError:\n",
    "        print(f\"No data found for {crypto_name}. Ensure data preprocessing is complete.\")\n",
    "        return None\n",
    "\n",
    "# Select cryptocurrency\n",
    "crypto_name = 'bitcoin'\n",
    "crypto_data = load_crypto_data(crypto_name)\n",
    "\n",
    "# Display basic information\n",
    "print(crypto_data.info())\n",
    "print(\"\\nFirst few rows:\")\n",
    "print(crypto_data.head())"
   ],
   "outputs": []
  },
  {
   "cell_type": "markdown",
   "metadata": {},
   "source": [
    "## Time Series Stationarity Test\n",
    "\n",
    "Augmented Dickey-Fuller test to check for stationarity"
   ]
  },
  {
   "cell_type": "code",
   "execution_count": null,
   "metadata": {},
   "source": [
    "def stationarity_test(timeseries):\n",
    "    \"\"\"\n",
    "    Perform Augmented Dickey-Fuller test for stationarity\n",
    "    \"\"\"\n",
    "    print('Results of Augmented Dickey-Fuller Test:')\n",
    "    dftest = adfuller(timeseries, autolag='AIC')\n",
    "    dfoutput = pd.Series(dftest[0:4], index=['Test Statistic','p-value','#Lags Used','Number of Observations Used'])\n",
    "    for key,value in dftest[4].items():\n",
    "        dfoutput['Critical Value (%s)'%key] = value\n",
    "    print(dfoutput)\n",
    "\n",
    "# Stationarity test on price\n",
    "stationarity_test(crypto_data['price'])"
   ],
   "outputs": []
  },
  {
   "cell_type": "markdown",
   "metadata": {},
   "source": [
    "## Autocorrelation and Partial Autocorrelation Analysis"
   ]
  },
  {
   "cell_type": "code",
   "execution_count": null,
   "metadata": {},
   "source": [
    "# Create ACF and PACF plots\n",
    "plt.figure(figsize=(16,8))\n",
    "\n",
    "# ACF Plot\n",
    "plt.subplot(121)\n",
    "plot_acf(crypto_data['price'].dropna(), lags=50, ax=plt.gca())\n",
    "plt.title(f'{crypto_name.capitalize()} Price Autocorrelation')\n",
    "\n",
    "# PACF Plot\n",
    "plt.subplot(122)\n",
    "plot_pacf(crypto_data['price'].dropna(), lags=50, ax=plt.gca())\n",
    "plt.title(f'{crypto_name.capitalize()} Price Partial Autocorrelation')\n",
    "\n",
    "plt.tight_layout()\n",
    "plt.savefig(f'data/processed/analysis/{crypto_name}_autocorrelation.png')\n",
    "plt.show()"
   ],
   "outputs": []
  },
  {
   "cell_type": "markdown",
   "metadata": {},
   "source": [
    "## Seasonal Decomposition"
   ]
  },
  {
   "cell_type": "code",
   "execution_count": null,
   "metadata": {},
   "source": [
    "# Perform seasonal decomposition\n",
    "decomposition = seasonal_decompose(crypto_data['price'], period=30)\n",
    "\n",
    "# Plot decomposition\n",
    "plt.figure(figsize=(16,12))\n",
    "\n",
    "plt.subplot(411)\n",
    "plt.title(f'{crypto_name.capitalize()} Time Series Decomposition')\n",
    "plt.plot(decomposition.observed)\n",
    "plt.ylabel('Observed')\n",
    "\n",
    "plt.subplot(412)\n",
    "plt.plot(decomposition.trend)\n",
    "plt.ylabel('Trend')\n",
    "\n",
    "plt.subplot(413)\n",
    "plt.plot(decomposition.seasonal)\n",
    "plt.ylabel('Seasonal')\n",
    "\n",
    "plt.subplot(414)\n",
    "plt.plot(decomposition.resid)\n",
    "plt.ylabel('Residual')\n",
    "\n",
    "plt.tight_layout()\n",
    "plt.savefig(f'data/processed/analysis/{crypto_name}_decomposition.png')\n",
    "plt.show()"
   ],
   "outputs": []
  },
  {
   "cell_type": "markdown",
   "metadata": {},
   "source": [
    "## Rolling Window Analysis"
   ]
  },
  {
   "cell_type": "code",
   "execution_count": null,
   "metadata": {},
   "source": [
    "# Calculate rolling statistics\n",
    "rolling_mean = crypto_data['price'].rolling(window=30).mean()\n",
    "rolling_std = crypto_data['price'].rolling(window=30).std()\n",
    "\n",
    "# Visualize rolling statistics\n",
    "plt.figure(figsize=(16,6))\n",
    "plt.plot(crypto_data['price'], label='Original Price')\n",
    "plt.plot(rolling_mean, label='30-day Rolling Mean')\n",
    "plt.fill_between(crypto_data.index, \n",
    "                 rolling_mean - 2*rolling_std, \n",
    "                 rolling_mean + 2*rolling_std, \n",
    "                 color='lightgray', alpha=0.3)\n",
    "plt.title(f'{crypto_name.capitalize()} Price with Rolling Mean and Standard Deviation')\n",
    "plt.legend()\n",
    "plt.savefig(f'data/processed/analysis/{crypto_name}_rolling_stats.png')\n",
    "plt.show()"
   ],
   "outputs": []
  },
  {
   "cell_type": "markdown",
   "metadata": {},
   "source": [
    "## Price Volatility Analysis"
   ]
  },
  {
   "cell_type": "code",
   "execution_count": null,
   "metadata": {},
   "source": [
    "# Calculate daily returns\n",
    "crypto_data['daily_return'] = crypto_data['price'].pct_change()\n",
    "\n",
    "# Volatility visualization\n",
    "plt.figure(figsize=(16,6))\n",
    "\n",
    "plt.subplot(121)\n",
    "crypto_data['daily_return'].hist(bins=50)\n",
    "plt.title('Distribution of Daily Returns')\n",
    "plt.xlabel('Daily Return')\n",
    "plt.ylabel('Frequency')\n",
    "\n",
    "plt.subplot(122)\n",
    "sns.boxplot(crypto_data['daily_return'])\n",
    "plt.title('Daily Returns Boxplot')\n",
    "plt.xlabel('Daily Return')\n",
    "\n",
    "plt.tight_layout()\n",
    "plt.savefig(f'data/processed/analysis/{crypto_name}_volatility.png')\n",
    "plt.show()\n",
    "\n",
    "# Print volatility statistics\n",
    "print(\"Volatility Statistics:\")\n",
    "print(crypto_data['daily_return'].describe())"
   ],
   "outputs": []
  },
  {
   "cell_type": "markdown",
   "metadata": {},
   "source": [
    "## Technical Indicator Summary"
   ]
  },
  {
   "cell_type": "code",
   "execution_count": null,
   "metadata": {},
   "source": [
    "# Technical indicators summary\n",
    "technical_columns = [\n",
    "    'MA_7', 'MA_30', 'EMA_7', 'EMA_30', \n",
    "    'RSI_14', 'BB_Middle', 'BB_Upper', 'BB_Lower', \n",
    "    'MACD', 'Signal_Line'\n",
    "]\n",
    "\n",
    "# Summary statistics of technical indicators\n",
    "technical_summary = crypto_data[technical_columns].describe()\n",
    "print(\"Technical Indicators Summary:\")\n",
    "print(technical_summary)\n",
    "\n",
    "# Save summary to CSV\n",
    "technical_summary.to_csv(f'data/processed/analysis/{crypto_name}_technical_summary.csv')"
   ],
   "outputs": []
  },
  {
   "cell_type": "markdown",
   "metadata": {},
   "source": [
    "## Key Insights and Conclusions"
   ]
  },
  {
   "cell_type": "code",
   "execution_count": null,
   "metadata": {},
   "source": [
    "# Generate comprehensive report\n",
    "def generate_time_series_report():\n",
    "    report = f\"\"\"\n",
    "    Cryptocurrency Time Series Analysis Report for {crypto_name.capitalize()}\n",
    "    ============================================================\n",
    "\n",
    "    1. Stationarity Analysis\n",
    "    - ADF Test Statistic: {stationarity_test(crypto_data['price'])}\n",
    "    - Interpretation: [Analyze p-value and test statistic]\n",
    "\n",
    "    2. Volatility Characteristics\n",
    "    - Mean Daily Return: {crypto_data['daily_return'].mean():.4f}\n",
    "    - Standard Deviation of Returns: {crypto_data['daily_return'].std():.4f}\n",
    "    - Maximum Daily Return: {crypto_data['daily_return'].max():.4f}\n",
    "    - Minimum Daily Return: {crypto_data['daily_return'].min():.4f}\n",
    "\n",
    "    3. Technical Indicator Insights\n",
    "    - 7-day Moving Average: {crypto_data['MA_7'].mean():.2f}\n",
    "    - 30-day Moving Average: {crypto_data['MA_30'].mean():.2f}\n",
    "    - RSI 14-day: {crypto_data['RSI_14'].mean():.2f}\n",
    "\n",
    "    4. Trend and Seasonality\n",
    "    - [Insights from seasonal decomposition]\n",
    "\n",
    "    Recommendations:\n",
    "    1. [Data-driven recommendation]\n",
    "    2. [Risk management suggestion]\n",
    "    3. [Further analysis recommendation]\n",
    "    \"\"\"\n",
    "    \n",
    "    with open(f'data/processed/analysis/{crypto_name}_analysis_report.txt', 'w') as f:\n",
    "        f.write(report)\n",
    "    \n",
    "    print(report)\n",
    "\n",
    "# Generate report\n",
    "generate_time_series_report()"
   ],
   "outputs": []
  }
 ],
 "metadata": {
  "kernelspec": {
   "display_name": "Python 3",
   "language": "python",
   "name": "python3"
  },
  "language_info": {
   "name": "python",
   "version": "3.8.5"
  }
 },
 "nbformat": 4,
 "nbformat_minor": 4
}
