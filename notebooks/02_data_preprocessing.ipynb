{
 "cells": [
  {
   "cell_type": "markdown",
   "metadata": {},
   "source": [
    "# Cryptocurrency Data Preprocessing Notebook\n",
    "\n",
    "## Objectives\n",
    "- Load raw cryptocurrency data\n",
    "- Clean and preprocess the data\n",
    "- Handle missing values\n",
    "- Create initial feature set\n",
    "- Prepare data for analysis"
   ]
  },
  {
   "cell_type": "code",
   "execution_count": null,
   "metadata": {},
   "outputs": [],
   "source": [
    "# Import required libraries\n",
    "import sys\n",
    "import os\n",
    "\n",
    "# Add project root to path\n",
    "sys.path.append(os.path.abspath(os.path.join(os.getcwd(), '..')))"
   ]
  },
  {
   "cell_type": "code",
   "execution_count": null,
   "metadata": {},
   "outputs": [],
   "source": [
    "# Import preprocessing module\n",
    "from src.data_preprocessor import CryptoDataPreprocessor\n",
    "\n",
    "# Initialize preprocessor\n",
    "preprocessor = CryptoDataPreprocessor()"
   ]
  },
  {
   "cell_type": "code",
   "execution_count": null,
   "metadata": {},
   "outputs": [],
   "source": [
    "# Preprocess data\n",
    "preprocessed_data = preprocessor.preprocess_data()\n",
    "\n",
    "print(\"Preprocessed Data Shape:\", preprocessed_data.shape)\n",
    "print(\"\\nFirst few rows:\")\n",
    "print(preprocessed_data.head())"
   ]
  },
  {
   "cell_type": "code",
   "execution_count": null,
   "metadata": {},
   "outputs": [],
   "source": [
    "# Calculate additional features\n",
    "featured_data = preprocessor.calculate_features(preprocessed_data)\n",
    "\n",
    "print(\"Featured Data Shape:\", featured_data.shape)\n",
    "print(\"\\nAdditional Columns:\")\n",
    "print(featured_data.columns)"
   ]
  },
  {
   "cell_type": "code",
   "execution_count": null,
   "metadata": {},
   "outputs": [],
   "source": [
    "# Detect outliers\n",
    "outliers = preprocessor.detect_outliers(featured_data)\n",
    "\n",
    "print(\"Outliers Summary:\")\n",
    "for crypto, crypto_outliers in outliers.items():\n",
    "    print(f\"{crypto}: {len(crypto_outliers)} outliers\")"
   ]
  },
  {
   "cell_type": "code",
   "execution_count": null,
   "metadata": {},
   "outputs": [],
   "source": [
    "# Visualize preprocessing results\n",
    "preprocessor.visualize_preprocessing(featured_data)\n",
    "\n",
    "print(\"Preprocessing visualization saved in data/processed directory\")"
   ]
  },
  {
   "cell_type": "code",
   "execution_count": null,
   "metadata": {},
   "outputs": [],
   "source": [
    "# Save processed data\n",
    "preprocessor.save_processed_data(featured_data)\n",
    "\n",
    "print(\"Processed data saved successfully\")"
   ]
  },
  {
   "cell_type": "markdown",
   "metadata": {},
   "source": [
    "## Notebook Summary\n",
    "- Preprocessed raw cryptocurrency data\n",
    "- Created additional features\n",
    "- Detected and analyzed outliers\n",
    "- Generated preprocessing visualizations\n",
    "\n",
    "### Key Preprocessing Steps\n",
    "- Data cleaning\n",
    "- Feature engineering\n",
    "- Outlier detection\n",
    "\n",
    "### Next Steps\n",
    "- Move to exploratory data analysis notebook\n",
    "- Perform in-depth data exploration"
   ]
  }
 ],
 "metadata": {
  "kernelspec": {
   "display_name": "Python 3",
   "language": "python",
   "name": "python3"
  }
 },
 "nbformat": 4,
 "nbformat_minor": 4
}
