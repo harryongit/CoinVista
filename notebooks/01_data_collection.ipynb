{
 "cells": [
  {
   "cell_type": "markdown",
   "metadata": {},
   "source": [
    "# Cryptocurrency Data Collection Notebook\n",
    "\n",
    "## Objectives\n",
    "- Collect historical price data for multiple cryptocurrencies\n",
    "- Retrieve cryptocurrency metadata\n",
    "- Save raw data for further analysis"
   ]
  },
  {
   "cell_type": "code",
   "execution_count": null,
   "metadata": {},
   "outputs": [],
   "source": [
    "# Import required libraries\n",
    "import sys\n",
    "import os\n",
    "\n",
    "# Add project root to path\n",
    "sys.path.append(os.path.abspath(os.path.join(os.getcwd(), '..')))"
   ]
  },
  {
   "cell_type": "code",
   "execution_count": null,
   "metadata": {},
   "outputs": [],
   "source": [
    "# Import data collection module\n",
    "from src.data_collector import CryptoDataCollector\n",
    "\n",
    "# Initialize data collector\n",
    "cryptocurrencies = [\n",
    "    'bitcoin', \n",
    "    'ethereum', \n",
    "    'binancecoin', \n",
    "    'cardano', \n",
    "    'ripple'\n",
    "]\n",
    "\n",
    "collector = CryptoDataCollector(\n",
    "    cryptocurrencies=cryptocurrencies,\n",
    "    days=365  # Collect last year of data\n",
    ")"
   ]
  },
  {
   "cell_type": "code",
   "execution_count": null,
   "metadata": {},
   "outputs": [],
   "source": [
    "# Collect price data\n",
    "price_data = collector.collect_multi_crypto_data()\n",
    "print(\"Price Data Shape:\", price_data.shape)\n",
    "print(\"\\nFirst few rows:\")\n",
    "print(price_data.head())"
   ]
  },
  {
   "cell_type": "code",
   "execution_count": null,
   "metadata": {},
   "outputs": [],
   "source": [
    "# Collect cryptocurrency metadata\n",
    "metadata = collector.get_crypto_metadata()\n",
    "\n",
    "# Print metadata for each cryptocurrency\n",
    "for crypto, info in metadata.items():\n",
    "    print(f\"\\n{crypto.capitalize()} Metadata:\")\n",
    "    for key, value in info.items():\n",
    "        print(f\"{key}: {value}\")"
   ]
  },
  {
   "cell_type": "code",
   "execution_count": null,
   "metadata": {},
   "outputs": [],
   "source": [
    "# Basic data validation\n",
    "def validate_data(price_data):\n",
    "    # Check for missing values\n",
    "    print(\"Missing Values:\")\n",
    "    print(price_data.isnull().sum())\n",
    "    \n",
    "    # Check unique cryptocurrencies\n",
    "    print(\"\\nUnique Cryptocurrencies:\")\n",
    "    print(price_data['crypto'].unique())\n",
    "    \n",
    "    # Date range\n",
    "    print(\"\\nDate Range:\")\n",
    "    print(f\"Start: {price_data['timestamp'].min()}\")\n",
    "    print(f\"End: {price_data['timestamp'].max()}\")\n",
    "\n",
    "# Run validation\n",
    "validate_data(price_data)"
   ]
  },
  {
   "cell_type": "markdown",
   "metadata": {},
   "source": [
    "## Notebook Summary\n",
    "- Collected price data for multiple cryptocurrencies\n",
    "- Retrieved cryptocurrency metadata\n",
    "- Performed basic data validation\n",
    "\n",
    "### Next Steps\n",
    "- Move to data preprocessing notebook\n",
    "- Clean and prepare data for analysis"
   ]
  }
 ],
 "metadata": {
  "kernelspec": {
   "display_name": "Python 3",
   "language": "python",
   "name": "python3"
  }
 },
 "nbformat": 4,
 "nbformat_minor": 4
}
