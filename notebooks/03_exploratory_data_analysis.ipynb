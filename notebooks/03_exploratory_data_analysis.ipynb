```python
{
 "cells": [
    {
      "cell_type": "markdown",
      "metadata": {},
      "source": [
        "# Cryptocurrency Exploratory Data Analysis (EDA)\n",
        "\n",
        "## Objective\n",
        "Perform comprehensive exploratory data analysis on cryptocurrency price data to understand:\n",
        "- Data distribution\n",
        "- Price trends\n",
        "- Volatility\n",
        "- Correlations\n",
        "- Key statistical insights"
      ]
    },
    {
      "cell_type": "code",
      "execution_count": null,
      "metadata": {},
      "source": [
        "# Import required libraries\n",
        "import pandas as pd\n",
        "import numpy as np\n",
        "import matplotlib.pyplot as plt\n",
        "import seaborn as sns\n",
        "\n",
        "# Set visualization style\n",
        "plt.style.use('seaborn')\n",
        "sns.set(font_scale=1.2)\n",
        "\n",
        "# Load data\n",
        "df = pd.read_csv('../data/processed/processed_crypto_data.csv', parse_dates=['timestamp'])"
      ]
    },
    {
      "cell_type": "markdown",
      "metadata": {},
      "source": [
        "## Data Overview"
      ]
    },
    {
      "cell_type": "code",
      "execution_count": null,
      "metadata": {},
      "source": [
        "# Basic data information\n",
        "print(df.info())\n",
        "\n",
        "# Summary statistics\n",
        "print(\"\\nSummary Statistics:\")\n",
        "summary_stats = df.groupby('crypto')['price'].agg(['mean', 'median', 'std', 'min', 'max'])\n",
        "print(summary_stats)"
      ]
    },
    {
      "cell_type": "markdown",
      "metadata": {},
      "source": [
        "## Price Distribution Analysis"
      ]
    },
    {
      "cell_type": "code",
      "execution_count": null,
      "metadata": {},
      "source": [
        "# Distribution of prices for each cryptocurrency\n",
        "plt.figure(figsize=(15, 6))\n",
        "sns.boxplot(x='crypto', y='price', data=df)\n",
        "plt.title('Price Distribution by Cryptocurrency')\n",
        "plt.xlabel('Cryptocurrency')\n",
        "plt.ylabel('Price (USD)')\n",
        "plt.xticks(rotation=45)\n",
        "plt.tight_layout()\n",
        "plt.savefig('../reports/price_distribution.png')\n",
        "plt.close()\n",
        "\n",
        "# Kernel Density Estimation\n",
        "plt.figure(figsize=(15, 6))\n",
        "for crypto in df['crypto'].unique():\n",
        "    sns.kdeplot(df[df['crypto'] == crypto]['price'], label=crypto)\n",
        "plt.title('Price Density Distribution')\n",
        "plt.xlabel('Price (USD)')\n",
        "plt.ylabel('Density')\n",
        "plt.legend()\n",
        "plt.savefig('../reports/price_density.png')\n",
        "plt.close()"
      ]
    },
    {
      "cell_type": "markdown",
      "metadata": {},
      "source": [
        "## Time Series Price Trends"
      ]
    },
    {
      "cell_type": "code",
      "execution_count": null,
      "metadata": {},
      "source": [
        "# Price trends over time\n",
        "plt.figure(figsize=(15, 8))\n",
        "for crypto in df['crypto'].unique():\n",
        "    crypto_data = df[df['crypto'] == crypto]\n",
        "    plt.plot(crypto_data['timestamp'], crypto_data['price'], label=crypto)\n",
        "\n",
        "plt.title('Cryptocurrency Price Trends')\n",
        "plt.xlabel('Date')\n",
        "plt.ylabel('Price (USD)')\n",
        "plt.legend()\n",
        "plt.xticks(rotation=45)\n",
        "plt.tight_layout()\n",
        "plt.savefig('../reports/price_trends.png')\n",
        "plt.close()"
      ]
    },
    {
      "cell_type": "markdown",
      "metadata": {},
      "source": [
        "## Volatility Analysis"
      ]
    },
    {
      "cell_type": "code",
      "execution_count": null,
      "metadata": {},
      "source": [
        "# Calculate daily returns\n",
        "df['daily_return'] = df.groupby('crypto')['price'].pct_change()\n",
        "\n",
        "# Volatility comparison\n",
        "volatility = df.groupby('crypto')['daily_return'].std()\n",
        "plt.figure(figsize=(10, 6))\n",
        "volatility.plot(kind='bar')\n",
        "plt.title('Cryptocurrency Volatility')\n",
        "plt.xlabel('Cryptocurrency')\n",
        "plt.ylabel('Standard Deviation of Daily Returns')\n",
        "plt.tight_layout()\n",
        "plt.savefig('../reports/volatility_comparison.png')\n",
        "plt.close()"
      ]
    },
    {
      "cell_type": "markdown",
      "metadata": {},
      "source": [
        "## Correlation Analysis"
      ]
    },
    {
      "cell_type": "code",
      "execution_count": null,
      "metadata": {},
      "source": [
        "# Pivot data for correlation\n",
        "price_pivot = df.pivot(index='timestamp', columns='crypto', values='price')\n",
        "\n",
        "# Correlation matrix\n",
        "correlation_matrix = price_pivot.corr()\n",
        "\n",
        "# Correlation heatmap\n",
        "plt.figure(figsize=(10, 8))\n",
        "sns.heatmap(correlation_matrix, annot=True, cmap='coolwarm', center=0)\n",
        "plt.title('Cryptocurrency Price Correlation')\n",
        "plt.tight_layout()\n",
        "plt.savefig('../reports/correlation_heatmap.png')\n",
        "plt.close()"
      ]
    },
    {
      "cell_type": "markdown",
      "metadata": {},
      "source": [
        "## Statistical Tests"
      ]
    },
    {
      "cell_type": "code",
      "execution_count": null,
      "metadata": {},
      "source": [
        "from scipy import stats\n",
        "\n",
        "# Normality test for price distributions\n",
        "normality_results = {}\n",
        "for crypto in df['crypto'].unique():\n",
        "    crypto_prices = df[df['crypto'] == crypto]['price']\n",
        "    _, p_value = stats.normaltest(crypto_prices)\n",
        "    normality_results[crypto] = p_value\n",
        "\n",
        "print(\"Normality Test Results (p-values):\")\n",
        "for crypto, p_value in normality_results.items():\n",
        "    print(f\"{crypto}: {p_value}\")\n",
        "\n",
        "# Save results to file\n",
        "with open('../reports/statistical_analysis.txt', 'w') as f:\n",
        "    f.write(\"Normality Test Results (p-values):\\n\")\n",
        "    for crypto, p_value in normality_results.items():\n",
        "        f.write(f\"{crypto}: {p_value}\\n\")"
      ]
    },
    {
      "cell_type": "markdown",
      "metadata": {},
      "source": [
        "## Key Findings Summary"
      ]
    },
    {
      "cell_type": "code",
      "execution_count": null,
      "metadata": {},
      "source": [
        "# Generate summary report\n",
        "summary_report = \"\"\"\n",
        "Cryptocurrency EDA Summary Report\n",
        "==================================\n",
        "\n",
        "1. Price Distribution\n",
        "- Visualizations saved in price_distribution.png and price_density.png\n",
        "\n",
        "2. Price Trends\n",
        "- Time series trends visualized in price_trends.png\n",
        "\n",
        "3. Volatility Analysis\n",
        "- Volatility comparison plotted in volatility_comparison.png\n",
        "\n",
        "4. Correlation\n",
        "- Cryptocurrency price correlations mapped in correlation_heatmap.png\n",
        "\n",
        "5. Statistical Insights\n",
        "- Detailed normality test results in statistical_analysis.txt\n",
        "\"\"\"\n",
        "\n",
        "with open('../reports/eda_summary.txt', 'w') as f:\n",
        "    f.write(summary_report)"
      ]
    }
 ],
 "metadata": {
    "kernelspec": {
      "display_name": "Python 3",
      "language": "python",
      "name": "python3"
    },
    "language_info": {
      "name": "python",
      "version": "3.8.5"
    }
 },
 "nbformat": 4,
 "nbformat_minor": 4
}
```
